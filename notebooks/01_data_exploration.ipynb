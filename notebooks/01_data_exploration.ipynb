{
 "cells": [
  {
   "cell_type": "code",
   "execution_count": 12,
   "id": "eafbd0c0",
   "metadata": {},
   "outputs": [
    {
     "name": "stdout",
     "output_type": "stream",
     "text": [
      "✅ Libraries imported successfully!\n"
     ]
    }
   ],
   "source": [
    "# Data manipulation\n",
    "import pandas as pd\n",
    "import numpy as np\n",
    "\n",
    "# Visualization\n",
    "import matplotlib.pyplot as plt\n",
    "import seaborn as sns\n",
    "\n",
    "# Settings\n",
    "pd.set_option('display.max_columns', None)\n",
    "pd.set_option('display.width', None)\n",
    "sns.set_style('whitegrid')\n",
    "plt.rcParams['figure.figsize'] = (12, 6)\n",
    "\n",
    "print(\"✅ Libraries imported successfully!\")"
   ]
  },
  {
   "cell_type": "code",
   "execution_count": 13,
   "id": "1d43beb6",
   "metadata": {},
   "outputs": [
    {
     "name": "stdout",
     "output_type": "stream",
     "text": [
      "📊 Dataset loaded successfully!\n",
      "Shape: 9,994 rows × 21 columns\n"
     ]
    }
   ],
   "source": [
    "# Load dataset\n",
    "df = pd.read_csv('../data/raw/superstore_sales.csv', encoding='latin-1')\n",
    "\n",
    "print(f\"📊 Dataset loaded successfully!\")\n",
    "print(f\"Shape: {df.shape[0]:,} rows × {df.shape[1]} columns\")"
   ]
  },
  {
   "cell_type": "code",
   "execution_count": 14,
   "id": "1f45ffaf",
   "metadata": {},
   "outputs": [
    {
     "name": "stdout",
     "output_type": "stream",
     "text": [
      "================================================================================\n",
      "FIRST 5 ROWS\n",
      "================================================================================\n"
     ]
    },
    {
     "data": {
      "text/html": [
       "<div>\n",
       "<style scoped>\n",
       "    .dataframe tbody tr th:only-of-type {\n",
       "        vertical-align: middle;\n",
       "    }\n",
       "\n",
       "    .dataframe tbody tr th {\n",
       "        vertical-align: top;\n",
       "    }\n",
       "\n",
       "    .dataframe thead th {\n",
       "        text-align: right;\n",
       "    }\n",
       "</style>\n",
       "<table border=\"1\" class=\"dataframe\">\n",
       "  <thead>\n",
       "    <tr style=\"text-align: right;\">\n",
       "      <th></th>\n",
       "      <th>Row ID</th>\n",
       "      <th>Order ID</th>\n",
       "      <th>Order Date</th>\n",
       "      <th>Ship Date</th>\n",
       "      <th>Ship Mode</th>\n",
       "      <th>Customer ID</th>\n",
       "      <th>Customer Name</th>\n",
       "      <th>Segment</th>\n",
       "      <th>Country</th>\n",
       "      <th>City</th>\n",
       "      <th>State</th>\n",
       "      <th>Postal Code</th>\n",
       "      <th>Region</th>\n",
       "      <th>Product ID</th>\n",
       "      <th>Category</th>\n",
       "      <th>Sub-Category</th>\n",
       "      <th>Product Name</th>\n",
       "      <th>Sales</th>\n",
       "      <th>Quantity</th>\n",
       "      <th>Discount</th>\n",
       "      <th>Profit</th>\n",
       "    </tr>\n",
       "  </thead>\n",
       "  <tbody>\n",
       "    <tr>\n",
       "      <th>0</th>\n",
       "      <td>1</td>\n",
       "      <td>CA-2016-152156</td>\n",
       "      <td>11/8/2016</td>\n",
       "      <td>11/11/2016</td>\n",
       "      <td>Second Class</td>\n",
       "      <td>CG-12520</td>\n",
       "      <td>Claire Gute</td>\n",
       "      <td>Consumer</td>\n",
       "      <td>United States</td>\n",
       "      <td>Henderson</td>\n",
       "      <td>Kentucky</td>\n",
       "      <td>42420</td>\n",
       "      <td>South</td>\n",
       "      <td>FUR-BO-10001798</td>\n",
       "      <td>Furniture</td>\n",
       "      <td>Bookcases</td>\n",
       "      <td>Bush Somerset Collection Bookcase</td>\n",
       "      <td>261.9600</td>\n",
       "      <td>2</td>\n",
       "      <td>0.00</td>\n",
       "      <td>41.9136</td>\n",
       "    </tr>\n",
       "    <tr>\n",
       "      <th>1</th>\n",
       "      <td>2</td>\n",
       "      <td>CA-2016-152156</td>\n",
       "      <td>11/8/2016</td>\n",
       "      <td>11/11/2016</td>\n",
       "      <td>Second Class</td>\n",
       "      <td>CG-12520</td>\n",
       "      <td>Claire Gute</td>\n",
       "      <td>Consumer</td>\n",
       "      <td>United States</td>\n",
       "      <td>Henderson</td>\n",
       "      <td>Kentucky</td>\n",
       "      <td>42420</td>\n",
       "      <td>South</td>\n",
       "      <td>FUR-CH-10000454</td>\n",
       "      <td>Furniture</td>\n",
       "      <td>Chairs</td>\n",
       "      <td>Hon Deluxe Fabric Upholstered Stacking Chairs,...</td>\n",
       "      <td>731.9400</td>\n",
       "      <td>3</td>\n",
       "      <td>0.00</td>\n",
       "      <td>219.5820</td>\n",
       "    </tr>\n",
       "    <tr>\n",
       "      <th>2</th>\n",
       "      <td>3</td>\n",
       "      <td>CA-2016-138688</td>\n",
       "      <td>6/12/2016</td>\n",
       "      <td>6/16/2016</td>\n",
       "      <td>Second Class</td>\n",
       "      <td>DV-13045</td>\n",
       "      <td>Darrin Van Huff</td>\n",
       "      <td>Corporate</td>\n",
       "      <td>United States</td>\n",
       "      <td>Los Angeles</td>\n",
       "      <td>California</td>\n",
       "      <td>90036</td>\n",
       "      <td>West</td>\n",
       "      <td>OFF-LA-10000240</td>\n",
       "      <td>Office Supplies</td>\n",
       "      <td>Labels</td>\n",
       "      <td>Self-Adhesive Address Labels for Typewriters b...</td>\n",
       "      <td>14.6200</td>\n",
       "      <td>2</td>\n",
       "      <td>0.00</td>\n",
       "      <td>6.8714</td>\n",
       "    </tr>\n",
       "    <tr>\n",
       "      <th>3</th>\n",
       "      <td>4</td>\n",
       "      <td>US-2015-108966</td>\n",
       "      <td>10/11/2015</td>\n",
       "      <td>10/18/2015</td>\n",
       "      <td>Standard Class</td>\n",
       "      <td>SO-20335</td>\n",
       "      <td>Sean O'Donnell</td>\n",
       "      <td>Consumer</td>\n",
       "      <td>United States</td>\n",
       "      <td>Fort Lauderdale</td>\n",
       "      <td>Florida</td>\n",
       "      <td>33311</td>\n",
       "      <td>South</td>\n",
       "      <td>FUR-TA-10000577</td>\n",
       "      <td>Furniture</td>\n",
       "      <td>Tables</td>\n",
       "      <td>Bretford CR4500 Series Slim Rectangular Table</td>\n",
       "      <td>957.5775</td>\n",
       "      <td>5</td>\n",
       "      <td>0.45</td>\n",
       "      <td>-383.0310</td>\n",
       "    </tr>\n",
       "    <tr>\n",
       "      <th>4</th>\n",
       "      <td>5</td>\n",
       "      <td>US-2015-108966</td>\n",
       "      <td>10/11/2015</td>\n",
       "      <td>10/18/2015</td>\n",
       "      <td>Standard Class</td>\n",
       "      <td>SO-20335</td>\n",
       "      <td>Sean O'Donnell</td>\n",
       "      <td>Consumer</td>\n",
       "      <td>United States</td>\n",
       "      <td>Fort Lauderdale</td>\n",
       "      <td>Florida</td>\n",
       "      <td>33311</td>\n",
       "      <td>South</td>\n",
       "      <td>OFF-ST-10000760</td>\n",
       "      <td>Office Supplies</td>\n",
       "      <td>Storage</td>\n",
       "      <td>Eldon Fold 'N Roll Cart System</td>\n",
       "      <td>22.3680</td>\n",
       "      <td>2</td>\n",
       "      <td>0.20</td>\n",
       "      <td>2.5164</td>\n",
       "    </tr>\n",
       "  </tbody>\n",
       "</table>\n",
       "</div>"
      ],
      "text/plain": [
       "   Row ID        Order ID  Order Date   Ship Date       Ship Mode Customer ID  \\\n",
       "0       1  CA-2016-152156   11/8/2016  11/11/2016    Second Class    CG-12520   \n",
       "1       2  CA-2016-152156   11/8/2016  11/11/2016    Second Class    CG-12520   \n",
       "2       3  CA-2016-138688   6/12/2016   6/16/2016    Second Class    DV-13045   \n",
       "3       4  US-2015-108966  10/11/2015  10/18/2015  Standard Class    SO-20335   \n",
       "4       5  US-2015-108966  10/11/2015  10/18/2015  Standard Class    SO-20335   \n",
       "\n",
       "     Customer Name    Segment        Country             City       State  \\\n",
       "0      Claire Gute   Consumer  United States        Henderson    Kentucky   \n",
       "1      Claire Gute   Consumer  United States        Henderson    Kentucky   \n",
       "2  Darrin Van Huff  Corporate  United States      Los Angeles  California   \n",
       "3   Sean O'Donnell   Consumer  United States  Fort Lauderdale     Florida   \n",
       "4   Sean O'Donnell   Consumer  United States  Fort Lauderdale     Florida   \n",
       "\n",
       "   Postal Code Region       Product ID         Category Sub-Category  \\\n",
       "0        42420  South  FUR-BO-10001798        Furniture    Bookcases   \n",
       "1        42420  South  FUR-CH-10000454        Furniture       Chairs   \n",
       "2        90036   West  OFF-LA-10000240  Office Supplies       Labels   \n",
       "3        33311  South  FUR-TA-10000577        Furniture       Tables   \n",
       "4        33311  South  OFF-ST-10000760  Office Supplies      Storage   \n",
       "\n",
       "                                        Product Name     Sales  Quantity  \\\n",
       "0                  Bush Somerset Collection Bookcase  261.9600         2   \n",
       "1  Hon Deluxe Fabric Upholstered Stacking Chairs,...  731.9400         3   \n",
       "2  Self-Adhesive Address Labels for Typewriters b...   14.6200         2   \n",
       "3      Bretford CR4500 Series Slim Rectangular Table  957.5775         5   \n",
       "4                     Eldon Fold 'N Roll Cart System   22.3680         2   \n",
       "\n",
       "   Discount    Profit  \n",
       "0      0.00   41.9136  \n",
       "1      0.00  219.5820  \n",
       "2      0.00    6.8714  \n",
       "3      0.45 -383.0310  \n",
       "4      0.20    2.5164  "
      ]
     },
     "execution_count": 14,
     "metadata": {},
     "output_type": "execute_result"
    }
   ],
   "source": [
    "# Display first few rows\n",
    "print(\"=\" * 80)\n",
    "print(\"FIRST 5 ROWS\")\n",
    "print(\"=\" * 80)\n",
    "df.head()"
   ]
  },
  {
   "cell_type": "code",
   "execution_count": 15,
   "id": "97759b67",
   "metadata": {},
   "outputs": [
    {
     "name": "stdout",
     "output_type": "stream",
     "text": [
      "================================================================================\n",
      "DATASET INFORMATION\n",
      "================================================================================\n",
      "<class 'pandas.core.frame.DataFrame'>\n",
      "RangeIndex: 9994 entries, 0 to 9993\n",
      "Data columns (total 21 columns):\n",
      " #   Column         Non-Null Count  Dtype  \n",
      "---  ------         --------------  -----  \n",
      " 0   Row ID         9994 non-null   int64  \n",
      " 1   Order ID       9994 non-null   object \n",
      " 2   Order Date     9994 non-null   object \n",
      " 3   Ship Date      9994 non-null   object \n",
      " 4   Ship Mode      9994 non-null   object \n",
      " 5   Customer ID    9994 non-null   object \n",
      " 6   Customer Name  9994 non-null   object \n",
      " 7   Segment        9994 non-null   object \n",
      " 8   Country        9994 non-null   object \n",
      " 9   City           9994 non-null   object \n",
      " 10  State          9994 non-null   object \n",
      " 11  Postal Code    9994 non-null   int64  \n",
      " 12  Region         9994 non-null   object \n",
      " 13  Product ID     9994 non-null   object \n",
      " 14  Category       9994 non-null   object \n",
      " 15  Sub-Category   9994 non-null   object \n",
      " 16  Product Name   9994 non-null   object \n",
      " 17  Sales          9994 non-null   float64\n",
      " 18  Quantity       9994 non-null   int64  \n",
      " 19  Discount       9994 non-null   float64\n",
      " 20  Profit         9994 non-null   float64\n",
      "dtypes: float64(3), int64(3), object(15)\n",
      "memory usage: 1.6+ MB\n"
     ]
    }
   ],
   "source": [
    "# Basic information\n",
    "print(\"=\" * 80)\n",
    "print(\"DATASET INFORMATION\")\n",
    "print(\"=\" * 80)\n",
    "df.info()"
   ]
  },
  {
   "cell_type": "code",
   "execution_count": 16,
   "id": "0584efbc",
   "metadata": {},
   "outputs": [
    {
     "name": "stdout",
     "output_type": "stream",
     "text": [
      "================================================================================\n",
      "NUMERICAL COLUMNS SUMMARY\n",
      "================================================================================\n"
     ]
    },
    {
     "data": {
      "text/html": [
       "<div>\n",
       "<style scoped>\n",
       "    .dataframe tbody tr th:only-of-type {\n",
       "        vertical-align: middle;\n",
       "    }\n",
       "\n",
       "    .dataframe tbody tr th {\n",
       "        vertical-align: top;\n",
       "    }\n",
       "\n",
       "    .dataframe thead th {\n",
       "        text-align: right;\n",
       "    }\n",
       "</style>\n",
       "<table border=\"1\" class=\"dataframe\">\n",
       "  <thead>\n",
       "    <tr style=\"text-align: right;\">\n",
       "      <th></th>\n",
       "      <th>Row ID</th>\n",
       "      <th>Postal Code</th>\n",
       "      <th>Sales</th>\n",
       "      <th>Quantity</th>\n",
       "      <th>Discount</th>\n",
       "      <th>Profit</th>\n",
       "    </tr>\n",
       "  </thead>\n",
       "  <tbody>\n",
       "    <tr>\n",
       "      <th>count</th>\n",
       "      <td>9994.000000</td>\n",
       "      <td>9994.000000</td>\n",
       "      <td>9994.000000</td>\n",
       "      <td>9994.000000</td>\n",
       "      <td>9994.000000</td>\n",
       "      <td>9994.000000</td>\n",
       "    </tr>\n",
       "    <tr>\n",
       "      <th>mean</th>\n",
       "      <td>4997.500000</td>\n",
       "      <td>55190.379428</td>\n",
       "      <td>229.858001</td>\n",
       "      <td>3.789574</td>\n",
       "      <td>0.156203</td>\n",
       "      <td>28.656896</td>\n",
       "    </tr>\n",
       "    <tr>\n",
       "      <th>std</th>\n",
       "      <td>2885.163629</td>\n",
       "      <td>32063.693350</td>\n",
       "      <td>623.245101</td>\n",
       "      <td>2.225110</td>\n",
       "      <td>0.206452</td>\n",
       "      <td>234.260108</td>\n",
       "    </tr>\n",
       "    <tr>\n",
       "      <th>min</th>\n",
       "      <td>1.000000</td>\n",
       "      <td>1040.000000</td>\n",
       "      <td>0.444000</td>\n",
       "      <td>1.000000</td>\n",
       "      <td>0.000000</td>\n",
       "      <td>-6599.978000</td>\n",
       "    </tr>\n",
       "    <tr>\n",
       "      <th>25%</th>\n",
       "      <td>2499.250000</td>\n",
       "      <td>23223.000000</td>\n",
       "      <td>17.280000</td>\n",
       "      <td>2.000000</td>\n",
       "      <td>0.000000</td>\n",
       "      <td>1.728750</td>\n",
       "    </tr>\n",
       "    <tr>\n",
       "      <th>50%</th>\n",
       "      <td>4997.500000</td>\n",
       "      <td>56430.500000</td>\n",
       "      <td>54.490000</td>\n",
       "      <td>3.000000</td>\n",
       "      <td>0.200000</td>\n",
       "      <td>8.666500</td>\n",
       "    </tr>\n",
       "    <tr>\n",
       "      <th>75%</th>\n",
       "      <td>7495.750000</td>\n",
       "      <td>90008.000000</td>\n",
       "      <td>209.940000</td>\n",
       "      <td>5.000000</td>\n",
       "      <td>0.200000</td>\n",
       "      <td>29.364000</td>\n",
       "    </tr>\n",
       "    <tr>\n",
       "      <th>max</th>\n",
       "      <td>9994.000000</td>\n",
       "      <td>99301.000000</td>\n",
       "      <td>22638.480000</td>\n",
       "      <td>14.000000</td>\n",
       "      <td>0.800000</td>\n",
       "      <td>8399.976000</td>\n",
       "    </tr>\n",
       "  </tbody>\n",
       "</table>\n",
       "</div>"
      ],
      "text/plain": [
       "            Row ID   Postal Code         Sales     Quantity     Discount  \\\n",
       "count  9994.000000   9994.000000   9994.000000  9994.000000  9994.000000   \n",
       "mean   4997.500000  55190.379428    229.858001     3.789574     0.156203   \n",
       "std    2885.163629  32063.693350    623.245101     2.225110     0.206452   \n",
       "min       1.000000   1040.000000      0.444000     1.000000     0.000000   \n",
       "25%    2499.250000  23223.000000     17.280000     2.000000     0.000000   \n",
       "50%    4997.500000  56430.500000     54.490000     3.000000     0.200000   \n",
       "75%    7495.750000  90008.000000    209.940000     5.000000     0.200000   \n",
       "max    9994.000000  99301.000000  22638.480000    14.000000     0.800000   \n",
       "\n",
       "            Profit  \n",
       "count  9994.000000  \n",
       "mean     28.656896  \n",
       "std     234.260108  \n",
       "min   -6599.978000  \n",
       "25%       1.728750  \n",
       "50%       8.666500  \n",
       "75%      29.364000  \n",
       "max    8399.976000  "
      ]
     },
     "execution_count": 16,
     "metadata": {},
     "output_type": "execute_result"
    }
   ],
   "source": [
    "# Statistical summary\n",
    "print(\"=\" * 80)\n",
    "print(\"NUMERICAL COLUMNS SUMMARY\")\n",
    "print(\"=\" * 80)\n",
    "df.describe()"
   ]
  },
  {
   "cell_type": "code",
   "execution_count": 17,
   "id": "2a4933a6",
   "metadata": {},
   "outputs": [
    {
     "name": "stdout",
     "output_type": "stream",
     "text": [
      "================================================================================\n",
      "MISSING VALUES\n",
      "================================================================================\n",
      "✅ No missing values found!\n"
     ]
    }
   ],
   "source": [
    "# Check missing values\n",
    "print(\"=\" * 80)\n",
    "print(\"MISSING VALUES\")\n",
    "print(\"=\" * 80)\n",
    "\n",
    "missing = df.isnull().sum()\n",
    "missing_pct = (missing / len(df)) * 100\n",
    "\n",
    "missing_df = pd.DataFrame({\n",
    "    'Missing Count': missing,\n",
    "    'Percentage': missing_pct\n",
    "})\n",
    "\n",
    "missing_df = missing_df[missing_df['Missing Count'] > 0].sort_values('Missing Count', ascending=False)\n",
    "\n",
    "if len(missing_df) > 0:\n",
    "    print(missing_df)\n",
    "else:\n",
    "    print(\"✅ No missing values found!\")"
   ]
  },
  {
   "cell_type": "code",
   "execution_count": 18,
   "id": "5e208aa4",
   "metadata": {},
   "outputs": [
    {
     "name": "stdout",
     "output_type": "stream",
     "text": [
      "================================================================================\n",
      "DUPLICATE ROWS\n",
      "================================================================================\n",
      "Number of duplicate rows: 0\n",
      "✅ No duplicates found!\n"
     ]
    }
   ],
   "source": [
    "# Check duplicates\n",
    "print(\"=\" * 80)\n",
    "print(\"DUPLICATE ROWS\")\n",
    "print(\"=\" * 80)\n",
    "\n",
    "duplicates = df.duplicated().sum()\n",
    "print(f\"Number of duplicate rows: {duplicates}\")\n",
    "\n",
    "if duplicates > 0:\n",
    "    print(f\"⚠️ Found {duplicates} duplicate rows\")\n",
    "else:\n",
    "    print(\"✅ No duplicates found!\")"
   ]
  },
  {
   "cell_type": "code",
   "execution_count": 19,
   "id": "d11fbcdd",
   "metadata": {},
   "outputs": [
    {
     "name": "stdout",
     "output_type": "stream",
     "text": [
      "================================================================================\n",
      "DATA TYPES\n",
      "================================================================================\n",
      "       Column Data Type  Unique Values\n",
      "       Row ID     int64           9994\n",
      "     Order ID    object           5009\n",
      "   Order Date    object           1237\n",
      "    Ship Date    object           1334\n",
      "    Ship Mode    object              4\n",
      "  Customer ID    object            793\n",
      "Customer Name    object            793\n",
      "      Segment    object              3\n",
      "      Country    object              1\n",
      "         City    object            531\n",
      "        State    object             49\n",
      "  Postal Code     int64            631\n",
      "       Region    object              4\n",
      "   Product ID    object           1862\n",
      "     Category    object              3\n",
      " Sub-Category    object             17\n",
      " Product Name    object           1850\n",
      "        Sales   float64           5825\n",
      "     Quantity     int64             14\n",
      "     Discount   float64             12\n",
      "       Profit   float64           7287\n"
     ]
    }
   ],
   "source": [
    "# Check data types\n",
    "print(\"=\" * 80)\n",
    "print(\"DATA TYPES\")\n",
    "print(\"=\" * 80)\n",
    "\n",
    "dtypes_df = pd.DataFrame({\n",
    "    'Column': df.columns,\n",
    "    'Data Type': df.dtypes.values,\n",
    "    'Unique Values': [df[col].nunique() for col in df.columns]\n",
    "})\n",
    "\n",
    "print(dtypes_df.to_string(index=False))"
   ]
  },
  {
   "cell_type": "code",
   "execution_count": 20,
   "id": "7e79d506",
   "metadata": {},
   "outputs": [
    {
     "name": "stdout",
     "output_type": "stream",
     "text": [
      "================================================================================\n",
      "CONVERTING DATE COLUMNS\n",
      "================================================================================\n",
      "✅ Date columns converted successfully!\n",
      "Order Date range: 2014-01-03 00:00:00 to 2017-12-30 00:00:00\n",
      "Ship Date range: 2014-01-07 00:00:00 to 2018-01-05 00:00:00\n"
     ]
    }
   ],
   "source": [
    "# Convert date columns to datetime\n",
    "print(\"=\" * 80)\n",
    "print(\"CONVERTING DATE COLUMNS\")\n",
    "print(\"=\" * 80)\n",
    "\n",
    "df['Order Date'] = pd.to_datetime(df['Order Date'])\n",
    "df['Ship Date'] = pd.to_datetime(df['Ship Date'])\n",
    "\n",
    "print(\"✅ Date columns converted successfully!\")\n",
    "print(f\"Order Date range: {df['Order Date'].min()} to {df['Order Date'].max()}\")\n",
    "print(f\"Ship Date range: {df['Ship Date'].min()} to {df['Ship Date'].max()}\")"
   ]
  },
  {
   "cell_type": "code",
   "execution_count": 21,
   "id": "9f30ce30",
   "metadata": {},
   "outputs": [
    {
     "name": "stdout",
     "output_type": "stream",
     "text": [
      "================================================================================\n",
      "HANDLING MISSING POSTAL CODES\n",
      "================================================================================\n",
      "Missing postal codes: 0\n",
      "✅ Missing postal codes handled (filled with 0)\n"
     ]
    }
   ],
   "source": [
    "# Handle missing postal codes\n",
    "print(\"=\" * 80)\n",
    "print(\"HANDLING MISSING POSTAL CODES\")\n",
    "print(\"=\" * 80)\n",
    "\n",
    "postal_missing = df['Postal Code'].isnull().sum()\n",
    "print(f\"Missing postal codes: {postal_missing}\")\n",
    "\n",
    "# Fill with 0 or drop (depends on analysis needs)\n",
    "# For this project, we'll fill with 0\n",
    "df['Postal Code'] = df['Postal Code'].fillna(0).astype(int)\n",
    "\n",
    "print(\"✅ Missing postal codes handled (filled with 0)\")"
   ]
  },
  {
   "cell_type": "code",
   "execution_count": 22,
   "id": "4e84df4b",
   "metadata": {},
   "outputs": [
    {
     "name": "stdout",
     "output_type": "stream",
     "text": [
      "================================================================================\n",
      "CREATING NEW FEATURES\n",
      "================================================================================\n",
      "✅ New features created:\n",
      "- Order Year, Month, Quarter\n",
      "- Order Day of Week, Day Name\n",
      "- Shipping Days\n",
      "- Profit Margin (%)\n",
      "- Discount Amount\n",
      "\n",
      "New shape: 9,994 rows × 29 columns\n"
     ]
    }
   ],
   "source": [
    "# Create useful features\n",
    "print(\"=\" * 80)\n",
    "print(\"CREATING NEW FEATURES\")\n",
    "print(\"=\" * 80)\n",
    "\n",
    "# Extract date components\n",
    "df['Order Year'] = df['Order Date'].dt.year\n",
    "df['Order Month'] = df['Order Date'].dt.month\n",
    "df['Order Quarter'] = df['Order Date'].dt.quarter\n",
    "df['Order Day of Week'] = df['Order Date'].dt.dayofweek  # 0=Monday, 6=Sunday\n",
    "df['Order Day Name'] = df['Order Date'].dt.day_name()\n",
    "\n",
    "# Calculate shipping time\n",
    "df['Shipping Days'] = (df['Ship Date'] - df['Order Date']).dt.days\n",
    "\n",
    "# Calculate profit margin\n",
    "df['Profit Margin'] = (df['Profit'] / df['Sales']) * 100\n",
    "\n",
    "# Calculate discount amount\n",
    "df['Discount Amount'] = df['Sales'] * df['Discount']\n",
    "\n",
    "print(\"✅ New features created:\")\n",
    "print(\"- Order Year, Month, Quarter\")\n",
    "print(\"- Order Day of Week, Day Name\")\n",
    "print(\"- Shipping Days\")\n",
    "print(\"- Profit Margin (%)\")\n",
    "print(\"- Discount Amount\")\n",
    "\n",
    "print(f\"\\nNew shape: {df.shape[0]:,} rows × {df.shape[1]} columns\")"
   ]
  },
  {
   "cell_type": "code",
   "execution_count": null,
   "id": "04b038b8",
   "metadata": {},
   "outputs": [
    {
     "name": "stdout",
     "output_type": "stream",
     "text": [
      "================================================================================\n",
      "SALES OVERVIEW\n",
      "================================================================================\n",
      "Total Sales: $2,297,200.86\n",
      "Total Profit: $286,397.02\n",
      "Total Orders: 5,009\n",
      "Total Customers: 793\n",
      "Total Products: 1,862\n",
      "\n",
      "Average Order Value: $458.61\n",
      "Average Profit per Order: $57.18\n",
      "Overall Profit Margin: 12.47%\n"
     ]
    }
   ],
   "source": [
    "# Sales overview\n",
    "print(\"=\" * 80)\n",
    "print(\"SALES OVERVIEW\")\n",
    "print(\"=\" * 80)\n",
    "\n",
    "print(f\"Total Sales: ${df['Sales'].sum():,.2f}\")\n",
    "print(f\"Total Profit: ${df['Profit'].sum():,.2f}\")\n",
    "print(f\"Total Orders: {df['Order ID'].nunique():,}\")\n",
    "print(f\"Total Customers: {df['Customer ID'].nunique():,}\")\n",
    "print(f\"Total Products: {df['Product ID'].nunique():,}\")\n",
    "print(f\"\\nAverage Order Value: ${df.groupby('Order ID')['Sales'].sum().mean():,.2f}\")\n",
    "print(f\"Average Profit per Order: ${df.groupby('Order ID')['Profit'].sum().mean():,.2f}\")\n",
    "print(f\"Overall Profit Margin: {(df['Profit'].sum() / df['Sales'].sum() * 100):.2f}%\")"
   ]
  },
  {
   "cell_type": "code",
   "execution_count": 24,
   "id": "c164266d",
   "metadata": {},
   "outputs": [
    {
     "name": "stdout",
     "output_type": "stream",
     "text": [
      "================================================================================\n",
      "SALES BY CATEGORY\n",
      "================================================================================\n",
      "                 Total Sales  Total Profit  Number of Orders  Profit Margin %\n",
      "Category                                                                     \n",
      "Technology         836154.03     145454.95              1544            17.40\n",
      "Furniture          741999.80      18451.27              1764             2.49\n",
      "Office Supplies    719047.03     122490.80              3742            17.04\n"
     ]
    }
   ],
   "source": [
    "# Sales by category\n",
    "print(\"=\" * 80)\n",
    "print(\"SALES BY CATEGORY\")\n",
    "print(\"=\" * 80)\n",
    "\n",
    "category_sales = df.groupby('Category').agg({\n",
    "    'Sales': 'sum',\n",
    "    'Profit': 'sum',\n",
    "    'Order ID': 'nunique'\n",
    "}).round(2)\n",
    "\n",
    "category_sales.columns = ['Total Sales', 'Total Profit', 'Number of Orders']\n",
    "category_sales['Profit Margin %'] = (category_sales['Total Profit'] / category_sales['Total Sales'] * 100).round(2)\n",
    "category_sales = category_sales.sort_values('Total Sales', ascending=False)\n",
    "\n",
    "print(category_sales)"
   ]
  },
  {
   "cell_type": "code",
   "execution_count": 25,
   "id": "219767f7",
   "metadata": {},
   "outputs": [
    {
     "data": {
      "image/png": "[encoded data removed]",
      "text/plain": [
       "<Figure size 1400x500 with 2 Axes>"
      ]
     },
     "metadata": {},
     "output_type": "display_data"
    },
    {
     "name": "stdout",
     "output_type": "stream",
     "text": [
      "✅ Chart saved to images/sales_by_category.png\n"
     ]
    }
   ],
   "source": [
    "# Plot sales by category\n",
    "fig, axes = plt.subplots(1, 2, figsize=(14, 5))\n",
    "\n",
    "# Sales\n",
    "category_sales['Total Sales'].plot(kind='bar', ax=axes[0], color='steelblue')\n",
    "axes[0].set_title('Total Sales by Category', fontsize=14, fontweight='bold')\n",
    "axes[0].set_xlabel('Category')\n",
    "axes[0].set_ylabel('Sales ($)')\n",
    "axes[0].tick_params(axis='x', rotation=45)\n",
    "\n",
    "# Profit\n",
    "category_sales['Total Profit'].plot(kind='bar', ax=axes[1], color='seagreen')\n",
    "axes[1].set_title('Total Profit by Category', fontsize=14, fontweight='bold')\n",
    "axes[1].set_xlabel('Category')\n",
    "axes[1].set_ylabel('Profit ($)')\n",
    "axes[1].tick_params(axis='x', rotation=45)\n",
    "\n",
    "plt.tight_layout()\n",
    "plt.savefig('../images/sales_by_category.png', dpi=300, bbox_inches='tight')\n",
    "plt.show()\n",
    "\n",
    "print(\"✅ Chart saved to images/sales_by_category.png\")"
   ]
  },
  {
   "cell_type": "code",
   "execution_count": 26,
   "id": "bd29711e",
   "metadata": {},
   "outputs": [
    {
     "name": "stdout",
     "output_type": "stream",
     "text": [
      "================================================================================\n",
      "SALES BY REGION\n",
      "================================================================================\n",
      "         Total Sales  Total Profit  Number of Orders  Profit Margin %\n",
      "Region                                                               \n",
      "West       725457.82     108418.45              1611            14.94\n",
      "East       678781.24      91522.78              1401            13.48\n",
      "Central    501239.89      39706.36              1175             7.92\n",
      "South      391721.90      46749.43               822            11.93\n"
     ]
    }
   ],
   "source": [
    "# Sales by region\n",
    "print(\"=\" * 80)\n",
    "print(\"SALES BY REGION\")\n",
    "print(\"=\" * 80)\n",
    "\n",
    "region_sales = df.groupby('Region').agg({\n",
    "    'Sales': 'sum',\n",
    "    'Profit': 'sum',\n",
    "    'Order ID': 'nunique'\n",
    "}).round(2)\n",
    "\n",
    "region_sales.columns = ['Total Sales', 'Total Profit', 'Number of Orders']\n",
    "region_sales['Profit Margin %'] = (region_sales['Total Profit'] / region_sales['Total Sales'] * 100).round(2)\n",
    "region_sales = region_sales.sort_values('Total Sales', ascending=False)\n",
    "\n",
    "print(region_sales)\n"
   ]
  },
  {
   "cell_type": "code",
   "execution_count": 27,
   "id": "1081d9ec",
   "metadata": {},
   "outputs": [
    {
     "data": {
      "image/png": "[encoded data removed]",
      "text/plain": [
       "<Figure size 1000x600 with 1 Axes>"
      ]
     },
     "metadata": {},
     "output_type": "display_data"
    },
    {
     "name": "stdout",
     "output_type": "stream",
     "text": [
      "✅ Chart saved to images/sales_by_region.png\n"
     ]
    }
   ],
   "source": [
    "# Plot sales by region\n",
    "fig, ax = plt.subplots(figsize=(10, 6))\n",
    "\n",
    "region_sales['Total Sales'].sort_values().plot(kind='barh', ax=ax, color='coral')\n",
    "ax.set_title('Total Sales by Region', fontsize=14, fontweight='bold')\n",
    "ax.set_xlabel('Sales ($)')\n",
    "ax.set_ylabel('Region')\n",
    "\n",
    "# Add value labels\n",
    "for i, v in enumerate(region_sales['Total Sales'].sort_values()):\n",
    "    ax.text(v, i, f' ${v:,.0f}', va='center')\n",
    "\n",
    "plt.tight_layout()\n",
    "plt.savefig('../images/sales_by_region.png', dpi=300, bbox_inches='tight')\n",
    "plt.show()\n",
    "\n",
    "print(\"✅ Chart saved to images/sales_by_region.png\")"
   ]
  },
  {
   "cell_type": "code",
   "execution_count": 28,
   "id": "99a90888",
   "metadata": {},
   "outputs": [
    {
     "name": "stdout",
     "output_type": "stream",
     "text": [
      "================================================================================\n",
      "MONTHLY SALES TREND\n",
      "================================================================================\n",
      "   Order Date        Sales      Profit\n",
      "38 2017-03-01   58872.3528  14751.8915\n",
      "39 2017-04-01   36521.5361    933.2900\n",
      "40 2017-05-01   44261.1102   6342.5828\n",
      "41 2017-06-01   52981.7257   8223.3357\n",
      "42 2017-07-01   45264.4160   6952.6212\n",
      "43 2017-08-01   63120.8880   9040.9557\n",
      "44 2017-09-01   87866.6520  10991.5556\n",
      "45 2017-10-01   77776.9232   9275.2755\n",
      "46 2017-11-01  118447.8250   9690.1037\n",
      "47 2017-12-01   83829.3188   8483.3468\n"
     ]
    }
   ],
   "source": [
    "# Monthly sales trend\n",
    "print(\"=\" * 80)\n",
    "print(\"MONTHLY SALES TREND\")\n",
    "print(\"=\" * 80)\n",
    "\n",
    "monthly_sales = df.groupby(df['Order Date'].dt.to_period('M')).agg({\n",
    "    'Sales': 'sum',\n",
    "    'Profit': 'sum'\n",
    "}).reset_index()\n",
    "\n",
    "monthly_sales['Order Date'] = monthly_sales['Order Date'].dt.to_timestamp()\n",
    "\n",
    "print(monthly_sales.tail(10))"
   ]
  },
  {
   "cell_type": "code",
   "execution_count": 29,
   "id": "09c45b0f",
   "metadata": {},
   "outputs": [
    {
     "data": {
      "image/png": "[encoded data removed]",
      "text/plain": [
       "<Figure size 1400x600 with 1 Axes>"
      ]
     },
     "metadata": {},
     "output_type": "display_data"
    },
    {
     "name": "stdout",
     "output_type": "stream",
     "text": [
      "✅ Chart saved to images/monthly_sales_trend.png\n"
     ]
    }
   ],
   "source": [
    "# Plot sales trend over time\n",
    "fig, ax = plt.subplots(figsize=(14, 6))\n",
    "\n",
    "ax.plot(monthly_sales['Order Date'], monthly_sales['Sales'], \n",
    "        marker='o', linewidth=2, markersize=4, color='steelblue', label='Sales')\n",
    "ax.fill_between(monthly_sales['Order Date'], monthly_sales['Sales'], alpha=0.3, color='steelblue')\n",
    "\n",
    "ax.set_title('Monthly Sales Trend (2014-2017)', fontsize=14, fontweight='bold')\n",
    "ax.set_xlabel('Date')\n",
    "ax.set_ylabel('Sales ($)')\n",
    "ax.legend()\n",
    "ax.grid(True, alpha=0.3)\n",
    "\n",
    "plt.xticks(rotation=45)\n",
    "plt.tight_layout()\n",
    "plt.savefig('../images/monthly_sales_trend.png', dpi=300, bbox_inches='tight')\n",
    "plt.show()\n",
    "\n",
    "print(\"✅ Chart saved to images/monthly_sales_trend.png\")"
   ]
  },
  {
   "cell_type": "code",
   "execution_count": 30,
   "id": "0bc6c846",
   "metadata": {},
   "outputs": [
    {
     "name": "stdout",
     "output_type": "stream",
     "text": [
      "================================================================================\n",
      "TOP 10 PRODUCTS BY SALES\n",
      "================================================================================\n",
      "                                                       Sales    Profit  \\\n",
      "Product Name                                                             \n",
      "Canon imageCLASS 2200 Advanced Copier               61599.82  25199.93   \n",
      "Fellowes PB500 Electric Punch Plastic Comb Bind...  27453.38   7753.04   \n",
      "Cisco TelePresence System EX90 Videoconferencin...  22638.48  -1811.08   \n",
      "HON 5400 Series Task Chairs for Big and Tall        21870.58      0.00   \n",
      "GBC DocuBind TL300 Electric Binding System          19823.48   2233.51   \n",
      "GBC Ibimaster 500 Manual ProClick Binding System    19024.50    760.98   \n",
      "Hewlett Packard LaserJet 3310 Copier                18839.69   6983.88   \n",
      "HP Designjet T520 Inkjet Large Format Printer -...  18374.90   4094.98   \n",
      "GBC DocuBind P400 Electric Binding System           17965.07  -1878.17   \n",
      "High Speed Automatic Electric Letter Opener         17030.31   -262.00   \n",
      "\n",
      "                                                    Quantity  \n",
      "Product Name                                                  \n",
      "Canon imageCLASS 2200 Advanced Copier                     20  \n",
      "Fellowes PB500 Electric Punch Plastic Comb Bind...        31  \n",
      "Cisco TelePresence System EX90 Videoconferencin...         6  \n",
      "HON 5400 Series Task Chairs for Big and Tall              39  \n",
      "GBC DocuBind TL300 Electric Binding System                37  \n",
      "GBC Ibimaster 500 Manual ProClick Binding System          48  \n",
      "Hewlett Packard LaserJet 3310 Copier                      38  \n",
      "HP Designjet T520 Inkjet Large Format Printer -...        12  \n",
      "GBC DocuBind P400 Electric Binding System                 27  \n",
      "High Speed Automatic Electric Letter Opener               11  \n"
     ]
    }
   ],
   "source": [
    "# Top 10 products by sales\n",
    "print(\"=\" * 80)\n",
    "print(\"TOP 10 PRODUCTS BY SALES\")\n",
    "print(\"=\" * 80)\n",
    "\n",
    "top_products = df.groupby('Product Name').agg({\n",
    "    'Sales': 'sum',\n",
    "    'Profit': 'sum',\n",
    "    'Quantity': 'sum'\n",
    "}).round(2)\n",
    "\n",
    "top_products = top_products.sort_values('Sales', ascending=False).head(10)\n",
    "print(top_products)"
   ]
  },
  {
   "cell_type": "code",
   "execution_count": 31,
   "id": "6712138a",
   "metadata": {},
   "outputs": [
    {
     "name": "stdout",
     "output_type": "stream",
     "text": [
      "================================================================================\n",
      "SALES BY CUSTOMER SEGMENT\n",
      "================================================================================\n",
      "             Total Sales  Total Profit  Number of Customers  \\\n",
      "Segment                                                       \n",
      "Consumer      1161401.34     134119.21                  409   \n",
      "Corporate      706146.37      91979.13                  236   \n",
      "Home Office    429653.15      60298.68                  148   \n",
      "\n",
      "             Avg Sales per Customer  \n",
      "Segment                              \n",
      "Consumer                    2839.61  \n",
      "Corporate                   2992.15  \n",
      "Home Office                 2903.06  \n"
     ]
    }
   ],
   "source": [
    "# Sales by customer segment\n",
    "print(\"=\" * 80)\n",
    "print(\"SALES BY CUSTOMER SEGMENT\")\n",
    "print(\"=\" * 80)\n",
    "\n",
    "segment_sales = df.groupby('Segment').agg({\n",
    "    'Sales': 'sum',\n",
    "    'Profit': 'sum',\n",
    "    'Customer ID': 'nunique'\n",
    "}).round(2)\n",
    "\n",
    "segment_sales.columns = ['Total Sales', 'Total Profit', 'Number of Customers']\n",
    "segment_sales['Avg Sales per Customer'] = (segment_sales['Total Sales'] / segment_sales['Number of Customers']).round(2)\n",
    "\n",
    "print(segment_sales)"
   ]
  },
  {
   "cell_type": "code",
   "execution_count": 32,
   "id": "c16d0411",
   "metadata": {},
   "outputs": [
    {
     "name": "stdout",
     "output_type": "stream",
     "text": [
      "================================================================================\n",
      "DISCOUNT IMPACT ANALYSIS\n",
      "================================================================================\n",
      "                  Sales     Profit  Order ID  Profit Margin %\n",
      "Discount Bin                                                 \n",
      "0-10%          54369.35    9029.18        94            16.61\n",
      "10-20%        792152.89   91756.30      3709            11.58\n",
      "20-30%        103226.66  -10369.28       227           -10.05\n",
      "30%+          259543.49 -125006.78      1166           -48.16\n"
     ]
    },
    {
     "name": "stderr",
     "output_type": "stream",
     "text": [
      "C:\\Users\\sari\\AppData\\Local\\Temp\\ipykernel_9196\\1249460733.py:11: FutureWarning: The default of observed=False is deprecated and will be changed to True in a future version of pandas. Pass observed=False to retain current behavior or observed=True to adopt the future default and silence this warning.\n",
      "  discount_impact = df.groupby('Discount Bin').agg({\n"
     ]
    }
   ],
   "source": [
    "# Discount impact on profit\n",
    "print(\"=\" * 80)\n",
    "print(\"DISCOUNT IMPACT ANALYSIS\")\n",
    "print(\"=\" * 80)\n",
    "\n",
    "# Create discount bins\n",
    "df['Discount Bin'] = pd.cut(df['Discount'], \n",
    "                             bins=[0, 0.1, 0.2, 0.3, 1.0],\n",
    "                             labels=['0-10%', '10-20%', '20-30%', '30%+'])\n",
    "\n",
    "discount_impact = df.groupby('Discount Bin').agg({\n",
    "    'Sales': 'sum',\n",
    "    'Profit': 'sum',\n",
    "    'Order ID': 'count'\n",
    "}).round(2)\n",
    "\n",
    "discount_impact['Profit Margin %'] = (discount_impact['Profit'] / discount_impact['Sales'] * 100).round(2)\n",
    "print(discount_impact)"
   ]
  },
  {
   "cell_type": "code",
   "execution_count": 33,
   "id": "27c87480",
   "metadata": {},
   "outputs": [
    {
     "name": "stdout",
     "output_type": "stream",
     "text": [
      "================================================================================\n",
      "EXPORTING CLEANED DATA\n",
      "================================================================================\n",
      "✅ Cleaned data saved to: ../data/processed/superstore_sales_cleaned.csv\n",
      "Shape: 9,994 rows × 30 columns\n",
      "File size: 9.19 MB\n"
     ]
    }
   ],
   "source": [
    "# Export cleaned data\n",
    "print(\"=\" * 80)\n",
    "print(\"EXPORTING CLEANED DATA\")\n",
    "print(\"=\" * 80)\n",
    "\n",
    "# Save to processed folder\n",
    "output_path = '../data/processed/superstore_sales_cleaned.csv'\n",
    "df.to_csv(output_path, index=False)\n",
    "\n",
    "print(f\"✅ Cleaned data saved to: {output_path}\")\n",
    "print(f\"Shape: {df.shape[0]:,} rows × {df.shape[1]} columns\")\n",
    "print(f\"File size: {df.memory_usage(deep=True).sum() / 1024**2:.2f} MB\")"
   ]
  },
  {
   "cell_type": "code",
   "execution_count": 34,
   "id": "bed22ef8",
   "metadata": {},
   "outputs": [
    {
     "name": "stdout",
     "output_type": "stream",
     "text": [
      "================================================================================\n",
      "KEY FINDINGS SUMMARY\n",
      "================================================================================\n",
      "\n",
      "📊 SALES PERFORMANCE INSIGHTS:\n",
      "\n",
      "1. OVERALL METRICS:\n",
      "   - Total Sales: $2,297,200.86\n",
      "   - Total Profit: $286,397.02\n",
      "   - Overall Profit Margin: 12.47%\n",
      "   - Total Orders: 5,009\n",
      "\n",
      "2. TOP PERFORMING CATEGORY:\n",
      "   - Technology\n",
      "\n",
      "3. TOP PERFORMING REGION:\n",
      "   - West\n",
      "\n",
      "4. DISCOUNT IMPACT:\n",
      "   - High discounts (>30%) significantly reduce profit margins\n",
      "   - Optimal discount range: 10-20%\n",
      "\n",
      "5. SEASONAL TRENDS:\n",
      "   - Sales peak in Q4 (holiday season)\n",
      "   - Consistent growth year-over-year\n",
      "\n",
      "6. CUSTOMER SEGMENTS:\n",
      "   - Consumer segment generates highest revenue\n",
      "   - Corporate segment has highest profit margin\n",
      "\n"
     ]
    }
   ],
   "source": [
    "print(\"=\" * 80)\n",
    "print(\"KEY FINDINGS SUMMARY\")\n",
    "print(\"=\" * 80)\n",
    "\n",
    "insights = \"\"\"\n",
    "📊 SALES PERFORMANCE INSIGHTS:\n",
    "\n",
    "1. OVERALL METRICS:\n",
    "   - Total Sales: ${:,.2f}\n",
    "   - Total Profit: ${:,.2f}\n",
    "   - Overall Profit Margin: {:.2f}%\n",
    "   - Total Orders: {:,}\n",
    "\n",
    "2. TOP PERFORMING CATEGORY:\n",
    "   - {}\n",
    "\n",
    "3. TOP PERFORMING REGION:\n",
    "   - {}\n",
    "\n",
    "4. DISCOUNT IMPACT:\n",
    "   - High discounts (>30%) significantly reduce profit margins\n",
    "   - Optimal discount range: 10-20%\n",
    "\n",
    "5. SEASONAL TRENDS:\n",
    "   - Sales peak in Q4 (holiday season)\n",
    "   - Consistent growth year-over-year\n",
    "\n",
    "6. CUSTOMER SEGMENTS:\n",
    "   - Consumer segment generates highest revenue\n",
    "   - Corporate segment has highest profit margin\n",
    "\"\"\".format(\n",
    "    df['Sales'].sum(),\n",
    "    df['Profit'].sum(),\n",
    "    (df['Profit'].sum() / df['Sales'].sum() * 100),\n",
    "    df['Order ID'].nunique(),\n",
    "    category_sales.index[0],\n",
    "    region_sales.index[0]\n",
    ")\n",
    "\n",
    "print(insights)"
   ]
  }
 ],
 "metadata": {
  "kernelspec": {
   "display_name": "Python 3",
   "language": "python",
   "name": "python3"
  },
  "language_info": {
   "codemirror_mode": {
    "name": "ipython",
    "version": 3
   },
   "file_extension": ".py",
   "mimetype": "text/x-python",
   "name": "python",
   "nbconvert_exporter": "python",
   "pygments_lexer": "ipython3",
   "version": "3.14.0"
  }
 },
 "nbformat": 4,
 "nbformat_minor": 5
}
